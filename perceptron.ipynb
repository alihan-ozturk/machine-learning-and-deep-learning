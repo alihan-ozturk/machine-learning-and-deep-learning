{
 "cells": [
  {
   "cell_type": "code",
   "execution_count": 158,
   "metadata": {},
   "outputs": [],
   "source": [
    "import numpy as np\n",
    "\n",
    "class Perceptron(object):\n",
    "\n",
    "    def __init__(self, features, learning_rate=0.01):\n",
    "        self.learning_rate = learning_rate\n",
    "        self.weights = np.zeros(features + 1)\n",
    "           \n",
    "    def predict(self, inputs):\n",
    "        summation = np.dot(inputs, self.weights[1:]) + self.weights[0] #self.weights[0] = bias\n",
    "        if summation > 0:\n",
    "            activation = 1\n",
    "        else:\n",
    "            activation = 0            \n",
    "        return activation\n",
    "\n",
    "    def train(self, training_inputs, labels):\n",
    "        cost = sum(np.square([self.predict(inputs) for inputs in training_inputs] - labels))\n",
    "        while cost:\n",
    "            for inputs, label in zip(training_inputs, labels):\n",
    "                prediction = self.predict(inputs)\n",
    "                self.weights[1:] += self.learning_rate * (label - prediction) * inputs\n",
    "                self.weights[0] += self.learning_rate * (label - prediction)\n",
    "            cost = sum(np.square([self.predict(inputs) for inputs in training_inputs] - labels))"
   ]
  },
  {
   "cell_type": "code",
   "execution_count": 159,
   "metadata": {},
   "outputs": [],
   "source": [
    "# threshold\n",
    "\n",
    "# class Perceptron(object):\n",
    "\n",
    "#     def __init__(self, no_of_inputs, threshold=100, learning_rate=0.01):\n",
    "#         self.threshold = threshold\n",
    "#         self.learning_rate = learning_rate\n",
    "#         self.weights = np.zeros(no_of_inputs + 1)\n",
    "           \n",
    "#     def predict(self, inputs):\n",
    "#         summation = np.dot(inputs, self.weights[1:]) + self.weights[0]\n",
    "#         if summation > 0:\n",
    "#           activation = 1\n",
    "#         else:\n",
    "#           activation = 0            \n",
    "#         return activation\n",
    "\n",
    "#     def train(self, training_inputs, labels):\n",
    "#         for _ in range(self.threshold):\n",
    "#             for inputs, label in zip(training_inputs, labels):\n",
    "#                 prediction = self.predict(inputs)\n",
    "#                 self.weights[1:] += self.learning_rate * (label - prediction) * inputs\n",
    "#                 self.weights[0] += self.learning_rate * (label - prediction)"
   ]
  },
  {
   "cell_type": "code",
   "execution_count": 160,
   "metadata": {},
   "outputs": [
    {
     "data": {
      "text/plain": [
       "1"
      ]
     },
     "execution_count": 160,
     "metadata": {},
     "output_type": "execute_result"
    }
   ],
   "source": [
    "\n",
    "training_inputs = np.array([[1, 1],[1, 0],[0, 1],[0, 0]])\n",
    "labels = np.array([1, 0, 0, 0])\n",
    "\n",
    "perceptron = Perceptron(2)#features\n",
    "perceptron.train(training_inputs, labels)\n",
    "\n",
    "inputs = np.array([1, 1.5])\n",
    "perceptron.predict(inputs) "
   ]
  },
  {
   "cell_type": "code",
   "execution_count": 161,
   "metadata": {},
   "outputs": [
    {
     "data": {
      "text/plain": [
       "0"
      ]
     },
     "execution_count": 161,
     "metadata": {},
     "output_type": "execute_result"
    }
   ],
   "source": [
    "inputs = np.array([0, 0])\n",
    "perceptron.predict(inputs) "
   ]
  },
  {
   "cell_type": "code",
   "execution_count": 162,
   "metadata": {},
   "outputs": [
    {
     "data": {
      "text/plain": [
       "0"
      ]
     },
     "execution_count": 162,
     "metadata": {},
     "output_type": "execute_result"
    }
   ],
   "source": [
    "inputs = np.array([1, 0.5])\n",
    "perceptron.predict(inputs) "
   ]
  },
  {
   "cell_type": "code",
   "execution_count": 163,
   "metadata": {},
   "outputs": [
    {
     "data": {
      "text/plain": [
       "1"
      ]
     },
     "execution_count": 163,
     "metadata": {},
     "output_type": "execute_result"
    }
   ],
   "source": [
    "inputs = np.array([2, 2])\n",
    "perceptron.predict(inputs) "
   ]
  },
  {
   "cell_type": "code",
   "execution_count": 164,
   "metadata": {},
   "outputs": [
    {
     "data": {
      "text/plain": [
       "array([0, 0, 0, 0])"
      ]
     },
     "execution_count": 164,
     "metadata": {},
     "output_type": "execute_result"
    }
   ],
   "source": [
    "([perceptron.predict(inputs) for inputs in training_inputs] - labels)"
   ]
  },
  {
   "cell_type": "code",
   "execution_count": 165,
   "metadata": {},
   "outputs": [
    {
     "data": {
      "text/plain": [
       "array([-0.02,  0.01,  0.02])"
      ]
     },
     "execution_count": 165,
     "metadata": {},
     "output_type": "execute_result"
    }
   ],
   "source": [
    "perceptron.weights"
   ]
  },
  {
   "cell_type": "code",
   "execution_count": null,
   "metadata": {},
   "outputs": [],
   "source": []
  }
 ],
 "metadata": {
  "kernelspec": {
   "display_name": "Python 3",
   "language": "python",
   "name": "python3"
  },
  "language_info": {
   "codemirror_mode": {
    "name": "ipython",
    "version": 3
   },
   "file_extension": ".py",
   "mimetype": "text/x-python",
   "name": "python",
   "nbconvert_exporter": "python",
   "pygments_lexer": "ipython3",
   "version": "3.8.5"
  }
 },
 "nbformat": 4,
 "nbformat_minor": 4
}
